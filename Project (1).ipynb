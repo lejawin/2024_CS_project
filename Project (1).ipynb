{
  "metadata": {
    "kernelspec": {
      "name": "python",
      "display_name": "Python (Pyodide)",
      "language": "python"
    },
    "language_info": {
      "codemirror_mode": {
        "name": "python",
        "version": 3
      },
      "file_extension": ".py",
      "mimetype": "text/x-python",
      "name": "python",
      "nbconvert_exporter": "python",
      "pygments_lexer": "ipython3",
      "version": "3.8"
    }
  },
  "nbformat_minor": 4,
  "nbformat": 4,
  "cells": [
    {
      "cell_type": "code",
      "source": "import pandas as pd\ndf_in = pd.read_csv('metaData.csv')",
      "metadata": {
        "trusted": true
      },
      "outputs": [],
      "execution_count": 7
    },
    {
      "cell_type": "code",
      "source": "df_in.columns",
      "metadata": {
        "trusted": true
      },
      "outputs": [
        {
          "execution_count": 26,
          "output_type": "execute_result",
          "data": {
            "text/plain": "Index(['name', 'busNumber', 'startTime_iso', 'startTime_unix', 'endTime_iso',\n       'endTime_unix', 'drivenDistance', 'busRoute', 'energyConsumption',\n       'itcs_numberOfPassengers_mean', 'itcs_numberOfPassengers_min',\n       'itcs_numberOfPassengers_max', 'status_gridIsAvailable_mean',\n       'temperature_ambient_mean', 'temperature_ambient_min',\n       'temperature_ambient_max'],\n      dtype='object')"
          },
          "metadata": {}
        }
      ],
      "execution_count": 26
    },
    {
      "cell_type": "markdown",
      "source": " ### 1. Extract all trips with busRoute 83:",
      "metadata": {}
    },
    {
      "cell_type": "code",
      "source": "trips_route_83 = df_in[df_in['busRoute'] == '83']\ntrips_route_83",
      "metadata": {
        "trusted": true
      },
      "outputs": [
        {
          "execution_count": 15,
          "output_type": "execute_result",
          "data": {
            "text/plain": "                                              name  busNumber  \\\n154   B183_2020-03-03_04-42-38_2020-03-03_19-44-51        183   \n155   B183_2020-03-06_04-53-23_2020-03-06_19-44-42        183   \n157   B183_2020-03-09_14-16-13_2020-03-09_19-34-17        183   \n158   B183_2020-03-10_04-50-03_2020-03-10_19-51-25        183   \n159   B183_2020-03-12_04-56-41_2020-03-12_19-44-57        183   \n...                                            ...        ...   \n1399  B208_2022-11-30_04-47-53_2022-11-30_19-50-22        208   \n1400  B208_2022-12-01_05-19-41_2022-12-01_18-20-57        208   \n1401  B208_2022-12-02_04-47-48_2022-12-02_19-40-01        208   \n1405  B208_2022-12-07_05-13-02_2022-12-07_19-19-53        208   \n1406  B208_2022-12-08_05-22-20_2022-12-08_18-39-15        208   \n\n             startTime_iso  startTime_unix           endTime_iso  \\\n154   2020-03-03T04:42:38Z      1583210558  2020-03-03T19:44:51Z   \n155   2020-03-06T04:53:23Z      1583470403  2020-03-06T19:44:42Z   \n157   2020-03-09T14:16:13Z      1583763373  2020-03-09T19:34:17Z   \n158   2020-03-10T04:50:03Z      1583815803  2020-03-10T19:51:25Z   \n159   2020-03-12T04:56:41Z      1583989001  2020-03-12T19:44:57Z   \n...                    ...             ...                   ...   \n1399  2022-11-30T04:47:53Z      1669783673  2022-11-30T19:50:22Z   \n1400  2022-12-01T05:19:41Z      1669871981  2022-12-01T18:20:57Z   \n1401  2022-12-02T04:47:48Z      1669956468  2022-12-02T19:40:01Z   \n1405  2022-12-07T05:13:02Z      1670389982  2022-12-07T19:19:53Z   \n1406  2022-12-08T05:22:20Z      1670476940  2022-12-08T18:39:15Z   \n\n      endTime_unix  drivenDistance busRoute  energyConsumption  \\\n154     1583264691       225047.90       83       1.544278e+09   \n155     1583523882       224512.30       83       1.631816e+09   \n157     1583782457        77824.36       83       5.406013e+08   \n158     1583869885       225095.80       83       1.692171e+09   \n159     1584042297       224181.20       83       1.145860e+09   \n...            ...             ...      ...                ...   \n1399    1669837822       223165.00       83       1.560888e+09   \n1400    1669918857       190196.00       83       1.418847e+09   \n1401    1670010001       224473.40       83       1.611150e+09   \n1405    1670440793       210041.60       83       1.536697e+09   \n1406    1670524755       190372.70       83       1.415700e+09   \n\n      itcs_numberOfPassengers_mean  itcs_numberOfPassengers_min  \\\n154                       23.47531                            0   \n155                       17.41578                            0   \n157                       23.18182                            0   \n158                       20.96410                            0   \n159                       17.21235                            0   \n...                            ...                          ...   \n1399                      27.89066                            2   \n1400                      26.03927                            0   \n1401                      24.80384                            2   \n1405                      28.78539                            0   \n1406                      29.87940                            0   \n\n      itcs_numberOfPassengers_max  status_gridIsAvailable_mean  \\\n154                           118                     0.472180   \n155                            69                     0.451028   \n157                            74                     0.460099   \n158                            86                     0.475233   \n159                            80                     0.340882   \n...                           ...                          ...   \n1399                          100                     0.456196   \n1400                           96                     0.450413   \n1401                           91                     0.438693   \n1405                          115                     0.434858   \n1406                          102                     0.439916   \n\n      temperature_ambient_mean  temperature_ambient_min  \\\n154                   280.5450                   279.15   \n155                   279.8850                   278.15   \n157                   281.0489                   279.15   \n158                   279.8363                   279.15   \n159                   287.3445                   282.15   \n...                        ...                      ...   \n1399                  280.6948                   279.15   \n1400                  279.7655                   279.15   \n1401                  279.7888                   279.15   \n1405                  279.5283                   278.15   \n1406                  279.1724                   277.15   \n\n      temperature_ambient_max  \n154                  289.1500  \n155                  289.1500  \n157                  291.1500  \n158                  291.1500  \n159                  291.1500  \n...                       ...  \n1399                 293.1500  \n1400                 292.1500  \n1401                 291.1500  \n1405                 292.6655  \n1406                 292.1500  \n\n[846 rows x 16 columns]",
            "text/html": "<div>\n<style scoped>\n    .dataframe tbody tr th:only-of-type {\n        vertical-align: middle;\n    }\n\n    .dataframe tbody tr th {\n        vertical-align: top;\n    }\n\n    .dataframe thead th {\n        text-align: right;\n    }\n</style>\n<table border=\"1\" class=\"dataframe\">\n  <thead>\n    <tr style=\"text-align: right;\">\n      <th></th>\n      <th>name</th>\n      <th>busNumber</th>\n      <th>startTime_iso</th>\n      <th>startTime_unix</th>\n      <th>endTime_iso</th>\n      <th>endTime_unix</th>\n      <th>drivenDistance</th>\n      <th>busRoute</th>\n      <th>energyConsumption</th>\n      <th>itcs_numberOfPassengers_mean</th>\n      <th>itcs_numberOfPassengers_min</th>\n      <th>itcs_numberOfPassengers_max</th>\n      <th>status_gridIsAvailable_mean</th>\n      <th>temperature_ambient_mean</th>\n      <th>temperature_ambient_min</th>\n      <th>temperature_ambient_max</th>\n    </tr>\n  </thead>\n  <tbody>\n    <tr>\n      <th>154</th>\n      <td>B183_2020-03-03_04-42-38_2020-03-03_19-44-51</td>\n      <td>183</td>\n      <td>2020-03-03T04:42:38Z</td>\n      <td>1583210558</td>\n      <td>2020-03-03T19:44:51Z</td>\n      <td>1583264691</td>\n      <td>225047.90</td>\n      <td>83</td>\n      <td>1.544278e+09</td>\n      <td>23.47531</td>\n      <td>0</td>\n      <td>118</td>\n      <td>0.472180</td>\n      <td>280.5450</td>\n      <td>279.15</td>\n      <td>289.1500</td>\n    </tr>\n    <tr>\n      <th>155</th>\n      <td>B183_2020-03-06_04-53-23_2020-03-06_19-44-42</td>\n      <td>183</td>\n      <td>2020-03-06T04:53:23Z</td>\n      <td>1583470403</td>\n      <td>2020-03-06T19:44:42Z</td>\n      <td>1583523882</td>\n      <td>224512.30</td>\n      <td>83</td>\n      <td>1.631816e+09</td>\n      <td>17.41578</td>\n      <td>0</td>\n      <td>69</td>\n      <td>0.451028</td>\n      <td>279.8850</td>\n      <td>278.15</td>\n      <td>289.1500</td>\n    </tr>\n    <tr>\n      <th>157</th>\n      <td>B183_2020-03-09_14-16-13_2020-03-09_19-34-17</td>\n      <td>183</td>\n      <td>2020-03-09T14:16:13Z</td>\n      <td>1583763373</td>\n      <td>2020-03-09T19:34:17Z</td>\n      <td>1583782457</td>\n      <td>77824.36</td>\n      <td>83</td>\n      <td>5.406013e+08</td>\n      <td>23.18182</td>\n      <td>0</td>\n      <td>74</td>\n      <td>0.460099</td>\n      <td>281.0489</td>\n      <td>279.15</td>\n      <td>291.1500</td>\n    </tr>\n    <tr>\n      <th>158</th>\n      <td>B183_2020-03-10_04-50-03_2020-03-10_19-51-25</td>\n      <td>183</td>\n      <td>2020-03-10T04:50:03Z</td>\n      <td>1583815803</td>\n      <td>2020-03-10T19:51:25Z</td>\n      <td>1583869885</td>\n      <td>225095.80</td>\n      <td>83</td>\n      <td>1.692171e+09</td>\n      <td>20.96410</td>\n      <td>0</td>\n      <td>86</td>\n      <td>0.475233</td>\n      <td>279.8363</td>\n      <td>279.15</td>\n      <td>291.1500</td>\n    </tr>\n    <tr>\n      <th>159</th>\n      <td>B183_2020-03-12_04-56-41_2020-03-12_19-44-57</td>\n      <td>183</td>\n      <td>2020-03-12T04:56:41Z</td>\n      <td>1583989001</td>\n      <td>2020-03-12T19:44:57Z</td>\n      <td>1584042297</td>\n      <td>224181.20</td>\n      <td>83</td>\n      <td>1.145860e+09</td>\n      <td>17.21235</td>\n      <td>0</td>\n      <td>80</td>\n      <td>0.340882</td>\n      <td>287.3445</td>\n      <td>282.15</td>\n      <td>291.1500</td>\n    </tr>\n    <tr>\n      <th>...</th>\n      <td>...</td>\n      <td>...</td>\n      <td>...</td>\n      <td>...</td>\n      <td>...</td>\n      <td>...</td>\n      <td>...</td>\n      <td>...</td>\n      <td>...</td>\n      <td>...</td>\n      <td>...</td>\n      <td>...</td>\n      <td>...</td>\n      <td>...</td>\n      <td>...</td>\n      <td>...</td>\n    </tr>\n    <tr>\n      <th>1399</th>\n      <td>B208_2022-11-30_04-47-53_2022-11-30_19-50-22</td>\n      <td>208</td>\n      <td>2022-11-30T04:47:53Z</td>\n      <td>1669783673</td>\n      <td>2022-11-30T19:50:22Z</td>\n      <td>1669837822</td>\n      <td>223165.00</td>\n      <td>83</td>\n      <td>1.560888e+09</td>\n      <td>27.89066</td>\n      <td>2</td>\n      <td>100</td>\n      <td>0.456196</td>\n      <td>280.6948</td>\n      <td>279.15</td>\n      <td>293.1500</td>\n    </tr>\n    <tr>\n      <th>1400</th>\n      <td>B208_2022-12-01_05-19-41_2022-12-01_18-20-57</td>\n      <td>208</td>\n      <td>2022-12-01T05:19:41Z</td>\n      <td>1669871981</td>\n      <td>2022-12-01T18:20:57Z</td>\n      <td>1669918857</td>\n      <td>190196.00</td>\n      <td>83</td>\n      <td>1.418847e+09</td>\n      <td>26.03927</td>\n      <td>0</td>\n      <td>96</td>\n      <td>0.450413</td>\n      <td>279.7655</td>\n      <td>279.15</td>\n      <td>292.1500</td>\n    </tr>\n    <tr>\n      <th>1401</th>\n      <td>B208_2022-12-02_04-47-48_2022-12-02_19-40-01</td>\n      <td>208</td>\n      <td>2022-12-02T04:47:48Z</td>\n      <td>1669956468</td>\n      <td>2022-12-02T19:40:01Z</td>\n      <td>1670010001</td>\n      <td>224473.40</td>\n      <td>83</td>\n      <td>1.611150e+09</td>\n      <td>24.80384</td>\n      <td>2</td>\n      <td>91</td>\n      <td>0.438693</td>\n      <td>279.7888</td>\n      <td>279.15</td>\n      <td>291.1500</td>\n    </tr>\n    <tr>\n      <th>1405</th>\n      <td>B208_2022-12-07_05-13-02_2022-12-07_19-19-53</td>\n      <td>208</td>\n      <td>2022-12-07T05:13:02Z</td>\n      <td>1670389982</td>\n      <td>2022-12-07T19:19:53Z</td>\n      <td>1670440793</td>\n      <td>210041.60</td>\n      <td>83</td>\n      <td>1.536697e+09</td>\n      <td>28.78539</td>\n      <td>0</td>\n      <td>115</td>\n      <td>0.434858</td>\n      <td>279.5283</td>\n      <td>278.15</td>\n      <td>292.6655</td>\n    </tr>\n    <tr>\n      <th>1406</th>\n      <td>B208_2022-12-08_05-22-20_2022-12-08_18-39-15</td>\n      <td>208</td>\n      <td>2022-12-08T05:22:20Z</td>\n      <td>1670476940</td>\n      <td>2022-12-08T18:39:15Z</td>\n      <td>1670524755</td>\n      <td>190372.70</td>\n      <td>83</td>\n      <td>1.415700e+09</td>\n      <td>29.87940</td>\n      <td>0</td>\n      <td>102</td>\n      <td>0.439916</td>\n      <td>279.1724</td>\n      <td>277.15</td>\n      <td>292.1500</td>\n    </tr>\n  </tbody>\n</table>\n<p>846 rows × 16 columns</p>\n</div>"
          },
          "metadata": {}
        }
      ],
      "execution_count": 15
    },
    {
      "cell_type": "markdown",
      "source": "### 2. Extract all trips where busRoute is not a number:",
      "metadata": {}
    },
    {
      "cell_type": "code",
      "source": "non_numeric_bus_route_df = df_in[pd.to_numeric(df_in['busRoute'], errors='coerce').isna()]\nnon_numeric_bus_route_df",
      "metadata": {
        "trusted": true
      },
      "outputs": [
        {
          "execution_count": 22,
          "output_type": "execute_result",
          "data": {
            "text/plain": "                                              name  busNumber  \\\n0     B183_2019-04-30_03-18-56_2019-04-30_08-44-20        183   \n3     B183_2019-05-03_02-50-21_2019-05-03_05-53-20        183   \n9     B183_2019-05-10_03-16-11_2019-05-10_18-51-37        183   \n10    B183_2019-05-13_03-10-23_2019-05-13_23-16-13        183   \n19    B183_2019-05-24_02-52-47_2019-05-24_22-35-11        183   \n...                                            ...        ...   \n1373  B208_2022-10-21_22-38-32_2022-10-22_02-42-21        208   \n1374  B208_2022-10-22_22-34-45_2022-10-23_02-29-59        208   \n1394  B208_2022-11-25_23-35-16_2022-11-26_03-30-39        208   \n1407  B208_2022-12-09_23-55-12_2022-12-10_03-24-28        208   \n1408  B208_2022-12-10_23-34-46_2022-12-11_03-29-05        208   \n\n             startTime_iso  startTime_unix           endTime_iso  \\\n0     2019-04-30T03:18:56Z      1556594336  2019-04-30T08:44:20Z   \n3     2019-05-03T02:50:21Z      1556851821  2019-05-03T05:53:20Z   \n9     2019-05-10T03:16:11Z      1557458171  2019-05-10T18:51:37Z   \n10    2019-05-13T03:10:23Z      1557717023  2019-05-13T23:16:13Z   \n19    2019-05-24T02:52:47Z      1558666367  2019-05-24T22:35:11Z   \n...                    ...             ...                   ...   \n1373  2022-10-21T22:38:32Z      1666391912  2022-10-22T02:42:21Z   \n1374  2022-10-22T22:34:45Z      1666478085  2022-10-23T02:29:59Z   \n1394  2022-11-25T23:35:16Z      1669419316  2022-11-26T03:30:39Z   \n1407  2022-12-09T23:55:12Z      1670630112  2022-12-10T03:24:28Z   \n1408  2022-12-10T23:34:46Z      1670715286  2022-12-11T03:29:05Z   \n\n      endTime_unix  drivenDistance busRoute  energyConsumption  \\\n0       1556613860        77213.87        -       4.785852e+08   \n3       1556862800        42565.48        -       2.819867e+08   \n9       1557514297       210577.00        -       1.303391e+09   \n10      1557789373       267033.80        -       1.647432e+09   \n19      1558737311       263432.60        -       1.448057e+09   \n...            ...             ...      ...                ...   \n1373    1666406541        78567.16       N1       4.347766e+08   \n1374    1666492199        73427.97       N2       3.997737e+08   \n1394    1669433439        72911.26       N2       4.475534e+08   \n1407    1670642668        59548.57       N1       4.519165e+08   \n1408    1670729345        72293.83       N2       5.350956e+08   \n\n      itcs_numberOfPassengers_mean  itcs_numberOfPassengers_min  \\\n0                         5.538860                            0   \n3                         1.685185                            0   \n9                         8.230483                            0   \n10                        7.891652                            0   \n19                        7.520249                            0   \n...                            ...                          ...   \n1373                     16.333330                            0   \n1374                     17.710530                            0   \n1394                     11.216670                            1   \n1407                     20.105260                            0   \n1408                     15.993200                            0   \n\n      itcs_numberOfPassengers_max  status_gridIsAvailable_mean  \\\n0                              20                     0.740640   \n3                               8                     0.767122   \n9                              43                     0.740927   \n10                             45                     0.804191   \n19                             44                     0.761068   \n...                           ...                          ...   \n1373                           45                     0.431852   \n1374                           57                     0.443358   \n1394                           32                     0.465024   \n1407                           74                     0.495739   \n1408                           52                     0.459492   \n\n      temperature_ambient_mean  temperature_ambient_min  \\\n0                     282.3780                   281.15   \n3                     282.4129                   281.15   \n9                     287.5623                   282.15   \n10                    284.6764                   280.15   \n19                    293.1440                   283.15   \n...                        ...                      ...   \n1373                  289.2550                   288.15   \n1374                  287.3486                   285.15   \n1394                  281.3884                   280.15   \n1407                  279.4540                   277.15   \n1408                  276.0036                   273.15   \n\n      temperature_ambient_max  \n0                      293.15  \n3                      292.15  \n9                      293.15  \n10                     293.15  \n19                     299.15  \n...                       ...  \n1373                   296.15  \n1374                   295.15  \n1394                   293.15  \n1407                   291.15  \n1408                   291.15  \n\n[84 rows x 16 columns]",
            "text/html": "<div>\n<style scoped>\n    .dataframe tbody tr th:only-of-type {\n        vertical-align: middle;\n    }\n\n    .dataframe tbody tr th {\n        vertical-align: top;\n    }\n\n    .dataframe thead th {\n        text-align: right;\n    }\n</style>\n<table border=\"1\" class=\"dataframe\">\n  <thead>\n    <tr style=\"text-align: right;\">\n      <th></th>\n      <th>name</th>\n      <th>busNumber</th>\n      <th>startTime_iso</th>\n      <th>startTime_unix</th>\n      <th>endTime_iso</th>\n      <th>endTime_unix</th>\n      <th>drivenDistance</th>\n      <th>busRoute</th>\n      <th>energyConsumption</th>\n      <th>itcs_numberOfPassengers_mean</th>\n      <th>itcs_numberOfPassengers_min</th>\n      <th>itcs_numberOfPassengers_max</th>\n      <th>status_gridIsAvailable_mean</th>\n      <th>temperature_ambient_mean</th>\n      <th>temperature_ambient_min</th>\n      <th>temperature_ambient_max</th>\n    </tr>\n  </thead>\n  <tbody>\n    <tr>\n      <th>0</th>\n      <td>B183_2019-04-30_03-18-56_2019-04-30_08-44-20</td>\n      <td>183</td>\n      <td>2019-04-30T03:18:56Z</td>\n      <td>1556594336</td>\n      <td>2019-04-30T08:44:20Z</td>\n      <td>1556613860</td>\n      <td>77213.87</td>\n      <td>-</td>\n      <td>4.785852e+08</td>\n      <td>5.538860</td>\n      <td>0</td>\n      <td>20</td>\n      <td>0.740640</td>\n      <td>282.3780</td>\n      <td>281.15</td>\n      <td>293.15</td>\n    </tr>\n    <tr>\n      <th>3</th>\n      <td>B183_2019-05-03_02-50-21_2019-05-03_05-53-20</td>\n      <td>183</td>\n      <td>2019-05-03T02:50:21Z</td>\n      <td>1556851821</td>\n      <td>2019-05-03T05:53:20Z</td>\n      <td>1556862800</td>\n      <td>42565.48</td>\n      <td>-</td>\n      <td>2.819867e+08</td>\n      <td>1.685185</td>\n      <td>0</td>\n      <td>8</td>\n      <td>0.767122</td>\n      <td>282.4129</td>\n      <td>281.15</td>\n      <td>292.15</td>\n    </tr>\n    <tr>\n      <th>9</th>\n      <td>B183_2019-05-10_03-16-11_2019-05-10_18-51-37</td>\n      <td>183</td>\n      <td>2019-05-10T03:16:11Z</td>\n      <td>1557458171</td>\n      <td>2019-05-10T18:51:37Z</td>\n      <td>1557514297</td>\n      <td>210577.00</td>\n      <td>-</td>\n      <td>1.303391e+09</td>\n      <td>8.230483</td>\n      <td>0</td>\n      <td>43</td>\n      <td>0.740927</td>\n      <td>287.5623</td>\n      <td>282.15</td>\n      <td>293.15</td>\n    </tr>\n    <tr>\n      <th>10</th>\n      <td>B183_2019-05-13_03-10-23_2019-05-13_23-16-13</td>\n      <td>183</td>\n      <td>2019-05-13T03:10:23Z</td>\n      <td>1557717023</td>\n      <td>2019-05-13T23:16:13Z</td>\n      <td>1557789373</td>\n      <td>267033.80</td>\n      <td>-</td>\n      <td>1.647432e+09</td>\n      <td>7.891652</td>\n      <td>0</td>\n      <td>45</td>\n      <td>0.804191</td>\n      <td>284.6764</td>\n      <td>280.15</td>\n      <td>293.15</td>\n    </tr>\n    <tr>\n      <th>19</th>\n      <td>B183_2019-05-24_02-52-47_2019-05-24_22-35-11</td>\n      <td>183</td>\n      <td>2019-05-24T02:52:47Z</td>\n      <td>1558666367</td>\n      <td>2019-05-24T22:35:11Z</td>\n      <td>1558737311</td>\n      <td>263432.60</td>\n      <td>-</td>\n      <td>1.448057e+09</td>\n      <td>7.520249</td>\n      <td>0</td>\n      <td>44</td>\n      <td>0.761068</td>\n      <td>293.1440</td>\n      <td>283.15</td>\n      <td>299.15</td>\n    </tr>\n    <tr>\n      <th>...</th>\n      <td>...</td>\n      <td>...</td>\n      <td>...</td>\n      <td>...</td>\n      <td>...</td>\n      <td>...</td>\n      <td>...</td>\n      <td>...</td>\n      <td>...</td>\n      <td>...</td>\n      <td>...</td>\n      <td>...</td>\n      <td>...</td>\n      <td>...</td>\n      <td>...</td>\n      <td>...</td>\n    </tr>\n    <tr>\n      <th>1373</th>\n      <td>B208_2022-10-21_22-38-32_2022-10-22_02-42-21</td>\n      <td>208</td>\n      <td>2022-10-21T22:38:32Z</td>\n      <td>1666391912</td>\n      <td>2022-10-22T02:42:21Z</td>\n      <td>1666406541</td>\n      <td>78567.16</td>\n      <td>N1</td>\n      <td>4.347766e+08</td>\n      <td>16.333330</td>\n      <td>0</td>\n      <td>45</td>\n      <td>0.431852</td>\n      <td>289.2550</td>\n      <td>288.15</td>\n      <td>296.15</td>\n    </tr>\n    <tr>\n      <th>1374</th>\n      <td>B208_2022-10-22_22-34-45_2022-10-23_02-29-59</td>\n      <td>208</td>\n      <td>2022-10-22T22:34:45Z</td>\n      <td>1666478085</td>\n      <td>2022-10-23T02:29:59Z</td>\n      <td>1666492199</td>\n      <td>73427.97</td>\n      <td>N2</td>\n      <td>3.997737e+08</td>\n      <td>17.710530</td>\n      <td>0</td>\n      <td>57</td>\n      <td>0.443358</td>\n      <td>287.3486</td>\n      <td>285.15</td>\n      <td>295.15</td>\n    </tr>\n    <tr>\n      <th>1394</th>\n      <td>B208_2022-11-25_23-35-16_2022-11-26_03-30-39</td>\n      <td>208</td>\n      <td>2022-11-25T23:35:16Z</td>\n      <td>1669419316</td>\n      <td>2022-11-26T03:30:39Z</td>\n      <td>1669433439</td>\n      <td>72911.26</td>\n      <td>N2</td>\n      <td>4.475534e+08</td>\n      <td>11.216670</td>\n      <td>1</td>\n      <td>32</td>\n      <td>0.465024</td>\n      <td>281.3884</td>\n      <td>280.15</td>\n      <td>293.15</td>\n    </tr>\n    <tr>\n      <th>1407</th>\n      <td>B208_2022-12-09_23-55-12_2022-12-10_03-24-28</td>\n      <td>208</td>\n      <td>2022-12-09T23:55:12Z</td>\n      <td>1670630112</td>\n      <td>2022-12-10T03:24:28Z</td>\n      <td>1670642668</td>\n      <td>59548.57</td>\n      <td>N1</td>\n      <td>4.519165e+08</td>\n      <td>20.105260</td>\n      <td>0</td>\n      <td>74</td>\n      <td>0.495739</td>\n      <td>279.4540</td>\n      <td>277.15</td>\n      <td>291.15</td>\n    </tr>\n    <tr>\n      <th>1408</th>\n      <td>B208_2022-12-10_23-34-46_2022-12-11_03-29-05</td>\n      <td>208</td>\n      <td>2022-12-10T23:34:46Z</td>\n      <td>1670715286</td>\n      <td>2022-12-11T03:29:05Z</td>\n      <td>1670729345</td>\n      <td>72293.83</td>\n      <td>N2</td>\n      <td>5.350956e+08</td>\n      <td>15.993200</td>\n      <td>0</td>\n      <td>52</td>\n      <td>0.459492</td>\n      <td>276.0036</td>\n      <td>273.15</td>\n      <td>291.15</td>\n    </tr>\n  </tbody>\n</table>\n<p>84 rows × 16 columns</p>\n</div>"
          },
          "metadata": {}
        }
      ],
      "execution_count": 22
    },
    {
      "cell_type": "markdown",
      "source": "### 3. For each (busNumber, busRoute) pair, determine the number of trips",
      "metadata": {}
    },
    {
      "cell_type": "code",
      "source": "trip_count_df = df_in.groupby(['busNumber', 'busRoute']).size().reset_index(name='trip_count')\ntrip_count_df",
      "metadata": {
        "trusted": true
      },
      "outputs": [
        {
          "execution_count": 24,
          "output_type": "execute_result",
          "data": {
            "text/plain": "    busNumber busRoute  trip_count\n0         183        -          11\n1         183       31          12\n2         183       32          12\n3         183       33         130\n4         183       46         104\n5         183       72         114\n6         183       83         441\n7         183       N1          10\n8         183       N2          19\n9         183       N4          11\n10        208       31           5\n11        208       32          14\n12        208       33          25\n13        208       46          19\n14        208       72          44\n15        208       83         405\n16        208       N1           6\n17        208       N2          20\n18        208       N4           7",
            "text/html": "<div>\n<style scoped>\n    .dataframe tbody tr th:only-of-type {\n        vertical-align: middle;\n    }\n\n    .dataframe tbody tr th {\n        vertical-align: top;\n    }\n\n    .dataframe thead th {\n        text-align: right;\n    }\n</style>\n<table border=\"1\" class=\"dataframe\">\n  <thead>\n    <tr style=\"text-align: right;\">\n      <th></th>\n      <th>busNumber</th>\n      <th>busRoute</th>\n      <th>trip_count</th>\n    </tr>\n  </thead>\n  <tbody>\n    <tr>\n      <th>0</th>\n      <td>183</td>\n      <td>-</td>\n      <td>11</td>\n    </tr>\n    <tr>\n      <th>1</th>\n      <td>183</td>\n      <td>31</td>\n      <td>12</td>\n    </tr>\n    <tr>\n      <th>2</th>\n      <td>183</td>\n      <td>32</td>\n      <td>12</td>\n    </tr>\n    <tr>\n      <th>3</th>\n      <td>183</td>\n      <td>33</td>\n      <td>130</td>\n    </tr>\n    <tr>\n      <th>4</th>\n      <td>183</td>\n      <td>46</td>\n      <td>104</td>\n    </tr>\n    <tr>\n      <th>5</th>\n      <td>183</td>\n      <td>72</td>\n      <td>114</td>\n    </tr>\n    <tr>\n      <th>6</th>\n      <td>183</td>\n      <td>83</td>\n      <td>441</td>\n    </tr>\n    <tr>\n      <th>7</th>\n      <td>183</td>\n      <td>N1</td>\n      <td>10</td>\n    </tr>\n    <tr>\n      <th>8</th>\n      <td>183</td>\n      <td>N2</td>\n      <td>19</td>\n    </tr>\n    <tr>\n      <th>9</th>\n      <td>183</td>\n      <td>N4</td>\n      <td>11</td>\n    </tr>\n    <tr>\n      <th>10</th>\n      <td>208</td>\n      <td>31</td>\n      <td>5</td>\n    </tr>\n    <tr>\n      <th>11</th>\n      <td>208</td>\n      <td>32</td>\n      <td>14</td>\n    </tr>\n    <tr>\n      <th>12</th>\n      <td>208</td>\n      <td>33</td>\n      <td>25</td>\n    </tr>\n    <tr>\n      <th>13</th>\n      <td>208</td>\n      <td>46</td>\n      <td>19</td>\n    </tr>\n    <tr>\n      <th>14</th>\n      <td>208</td>\n      <td>72</td>\n      <td>44</td>\n    </tr>\n    <tr>\n      <th>15</th>\n      <td>208</td>\n      <td>83</td>\n      <td>405</td>\n    </tr>\n    <tr>\n      <th>16</th>\n      <td>208</td>\n      <td>N1</td>\n      <td>6</td>\n    </tr>\n    <tr>\n      <th>17</th>\n      <td>208</td>\n      <td>N2</td>\n      <td>20</td>\n    </tr>\n    <tr>\n      <th>18</th>\n      <td>208</td>\n      <td>N4</td>\n      <td>7</td>\n    </tr>\n  </tbody>\n</table>\n</div>"
          },
          "metadata": {}
        }
      ],
      "execution_count": 24
    },
    {
      "cell_type": "markdown",
      "source": "### 4. For each trip, compute the ratio between the energy consumption and the average number of passengers",
      "metadata": {}
    },
    {
      "cell_type": "code",
      "source": "df_in['energy_passenger_ratio'] = df_in['energyConsumption'] / df_in['itcs_numberOfPassengers_mean']",
      "metadata": {
        "trusted": true
      },
      "outputs": [],
      "execution_count": 27
    },
    {
      "cell_type": "code",
      "source": "df_in['energy_passenger_ratio']",
      "metadata": {
        "trusted": true
      },
      "outputs": [
        {
          "execution_count": 28,
          "output_type": "execute_result",
          "data": {
            "text/plain": "0       8.640500e+07\n1       1.214747e+07\n2       7.342794e+07\n3       1.673328e+08\n4       2.613190e+07\n            ...     \n1404    1.070215e+07\n1405    5.338462e+07\n1406    4.738047e+07\n1407    2.247753e+07\n1408    3.345769e+07\nName: energy_passenger_ratio, Length: 1409, dtype: float64"
          },
          "metadata": {}
        }
      ],
      "execution_count": 28
    },
    {
      "cell_type": "markdown",
      "source": "### 5. For each station (itcs_stopName), determine the average number of passengers",
      "metadata": {}
    },
    {
      "cell_type": "markdown",
      "source": "### 6 - 7 - 8- 12- 13-15-16",
      "metadata": {}
    },
    {
      "cell_type": "markdown",
      "source": "### 9. For each (route, bus) pair, compute the ratio between the overall energy consumption and the overall driven distance",
      "metadata": {}
    },
    {
      "cell_type": "code",
      "source": "df_in['busRoute'] = df_in['busRoute'].astype(str)",
      "metadata": {
        "trusted": true
      },
      "outputs": [],
      "execution_count": 30
    },
    {
      "cell_type": "code",
      "source": "route_bus_ratio = df_in.groupby(['busNumber', 'busRoute']).apply(lambda x: x['energyConsumption'].sum() /x['drivenDistance'].sum()).reset_index(name='energy_to_distance_ratio')",
      "metadata": {
        "trusted": true
      },
      "outputs": [
        {
          "name": "stderr",
          "text": "<ipython-input-32-a79c0f51ab0a>:1: DeprecationWarning: DataFrameGroupBy.apply operated on the grouping columns. This behavior is deprecated, and in a future version of pandas the grouping columns will be excluded from the operation. Either pass `include_groups=False` to exclude the groupings or explicitly select the grouping columns after groupby to silence this warning.\n  route_bus_ratio = df_in.groupby(['busNumber', 'busRoute']).apply(lambda x: x['energyConsumption'].sum() /x['drivenDistance'].sum()).reset_index(name='energy_to_distance_ratio')\n",
          "output_type": "stream"
        }
      ],
      "execution_count": 32
    },
    {
      "cell_type": "code",
      "source": "route_bus_ratio",
      "metadata": {
        "trusted": true
      },
      "outputs": [
        {
          "execution_count": 33,
          "output_type": "execute_result",
          "data": {
            "text/plain": "    busNumber busRoute  energy_to_distance_ratio\n0         183        -               6230.233181\n1         183       31               6086.891785\n2         183       32               6174.585331\n3         183       33               5970.747507\n4         183       46               5631.035959\n5         183       72               5899.029643\n6         183       83               5844.977154\n7         183       N1               5980.920966\n8         183       N2               5701.850332\n9         183       N4               6154.986937\n10        208       31               5290.862713\n11        208       32               5491.247671\n12        208       33               5639.244537\n13        208       46               5583.110707\n14        208       72               5410.318878\n15        208       83               5819.638891\n16        208       N1               5640.061883\n17        208       N2               5405.152963\n18        208       N4               6067.190112",
            "text/html": "<div>\n<style scoped>\n    .dataframe tbody tr th:only-of-type {\n        vertical-align: middle;\n    }\n\n    .dataframe tbody tr th {\n        vertical-align: top;\n    }\n\n    .dataframe thead th {\n        text-align: right;\n    }\n</style>\n<table border=\"1\" class=\"dataframe\">\n  <thead>\n    <tr style=\"text-align: right;\">\n      <th></th>\n      <th>busNumber</th>\n      <th>busRoute</th>\n      <th>energy_to_distance_ratio</th>\n    </tr>\n  </thead>\n  <tbody>\n    <tr>\n      <th>0</th>\n      <td>183</td>\n      <td>-</td>\n      <td>6230.233181</td>\n    </tr>\n    <tr>\n      <th>1</th>\n      <td>183</td>\n      <td>31</td>\n      <td>6086.891785</td>\n    </tr>\n    <tr>\n      <th>2</th>\n      <td>183</td>\n      <td>32</td>\n      <td>6174.585331</td>\n    </tr>\n    <tr>\n      <th>3</th>\n      <td>183</td>\n      <td>33</td>\n      <td>5970.747507</td>\n    </tr>\n    <tr>\n      <th>4</th>\n      <td>183</td>\n      <td>46</td>\n      <td>5631.035959</td>\n    </tr>\n    <tr>\n      <th>5</th>\n      <td>183</td>\n      <td>72</td>\n      <td>5899.029643</td>\n    </tr>\n    <tr>\n      <th>6</th>\n      <td>183</td>\n      <td>83</td>\n      <td>5844.977154</td>\n    </tr>\n    <tr>\n      <th>7</th>\n      <td>183</td>\n      <td>N1</td>\n      <td>5980.920966</td>\n    </tr>\n    <tr>\n      <th>8</th>\n      <td>183</td>\n      <td>N2</td>\n      <td>5701.850332</td>\n    </tr>\n    <tr>\n      <th>9</th>\n      <td>183</td>\n      <td>N4</td>\n      <td>6154.986937</td>\n    </tr>\n    <tr>\n      <th>10</th>\n      <td>208</td>\n      <td>31</td>\n      <td>5290.862713</td>\n    </tr>\n    <tr>\n      <th>11</th>\n      <td>208</td>\n      <td>32</td>\n      <td>5491.247671</td>\n    </tr>\n    <tr>\n      <th>12</th>\n      <td>208</td>\n      <td>33</td>\n      <td>5639.244537</td>\n    </tr>\n    <tr>\n      <th>13</th>\n      <td>208</td>\n      <td>46</td>\n      <td>5583.110707</td>\n    </tr>\n    <tr>\n      <th>14</th>\n      <td>208</td>\n      <td>72</td>\n      <td>5410.318878</td>\n    </tr>\n    <tr>\n      <th>15</th>\n      <td>208</td>\n      <td>83</td>\n      <td>5819.638891</td>\n    </tr>\n    <tr>\n      <th>16</th>\n      <td>208</td>\n      <td>N1</td>\n      <td>5640.061883</td>\n    </tr>\n    <tr>\n      <th>17</th>\n      <td>208</td>\n      <td>N2</td>\n      <td>5405.152963</td>\n    </tr>\n    <tr>\n      <th>18</th>\n      <td>208</td>\n      <td>N4</td>\n      <td>6067.190112</td>\n    </tr>\n  </tbody>\n</table>\n</div>"
          },
          "metadata": {}
        }
      ],
      "execution_count": 33
    },
    {
      "cell_type": "markdown",
      "source": "### 10. Starting from the results of the previous point, for each route compute the buses with max and min energy ratio, and save the difference between these ratios in a dataframe.",
      "metadata": {}
    },
    {
      "cell_type": "code",
      "source": "energy_ratio_minmax = route_bus_ratio.groupby('busRoute').apply(\n                                              lambda x: pd.DataFrame({\n                                                  'min_busNumber': [x.loc[x['energy_to_distance_ratio'].idxmin(), 'busNumber']],\n                                                  'min_ratio': [x['energy_to_distance_ratio'].min()],\n                                                  'max_busNumber': [x.loc[x['energy_to_distance_ratio'].idxmax(), 'busNumber']],\n                                                  'max_ratio': [x['energy_to_distance_ratio'].max()],\n                                                  'ratio_difference': [x['energy_to_distance_ratio'].max() - x['energy_to_distance_ratio'].min()]\n                                              })).reset_index(drop=True)",
      "metadata": {
        "trusted": true
      },
      "outputs": [
        {
          "name": "stderr",
          "text": "<ipython-input-40-c19f37a60899>:1: DeprecationWarning: DataFrameGroupBy.apply operated on the grouping columns. This behavior is deprecated, and in a future version of pandas the grouping columns will be excluded from the operation. Either pass `include_groups=False` to exclude the groupings or explicitly select the grouping columns after groupby to silence this warning.\n  energy_ratio_minmax = route_bus_ratio.groupby('busRoute').apply(\n",
          "output_type": "stream"
        }
      ],
      "execution_count": 40
    },
    {
      "cell_type": "code",
      "source": "energy_ratio_minmax",
      "metadata": {
        "trusted": true
      },
      "outputs": [
        {
          "execution_count": 41,
          "output_type": "execute_result",
          "data": {
            "text/plain": "   min_busNumber    min_ratio  max_busNumber    max_ratio  ratio_difference\n0            183  6230.233181            183  6230.233181          0.000000\n1            208  5290.862713            183  6086.891785        796.029072\n2            208  5491.247671            183  6174.585331        683.337660\n3            208  5639.244537            183  5970.747507        331.502969\n4            208  5583.110707            183  5631.035959         47.925252\n5            208  5410.318878            183  5899.029643        488.710765\n6            208  5819.638891            183  5844.977154         25.338263\n7            208  5640.061883            183  5980.920966        340.859083\n8            208  5405.152963            183  5701.850332        296.697369\n9            208  6067.190112            183  6154.986937         87.796825",
            "text/html": "<div>\n<style scoped>\n    .dataframe tbody tr th:only-of-type {\n        vertical-align: middle;\n    }\n\n    .dataframe tbody tr th {\n        vertical-align: top;\n    }\n\n    .dataframe thead th {\n        text-align: right;\n    }\n</style>\n<table border=\"1\" class=\"dataframe\">\n  <thead>\n    <tr style=\"text-align: right;\">\n      <th></th>\n      <th>min_busNumber</th>\n      <th>min_ratio</th>\n      <th>max_busNumber</th>\n      <th>max_ratio</th>\n      <th>ratio_difference</th>\n    </tr>\n  </thead>\n  <tbody>\n    <tr>\n      <th>0</th>\n      <td>183</td>\n      <td>6230.233181</td>\n      <td>183</td>\n      <td>6230.233181</td>\n      <td>0.000000</td>\n    </tr>\n    <tr>\n      <th>1</th>\n      <td>208</td>\n      <td>5290.862713</td>\n      <td>183</td>\n      <td>6086.891785</td>\n      <td>796.029072</td>\n    </tr>\n    <tr>\n      <th>2</th>\n      <td>208</td>\n      <td>5491.247671</td>\n      <td>183</td>\n      <td>6174.585331</td>\n      <td>683.337660</td>\n    </tr>\n    <tr>\n      <th>3</th>\n      <td>208</td>\n      <td>5639.244537</td>\n      <td>183</td>\n      <td>5970.747507</td>\n      <td>331.502969</td>\n    </tr>\n    <tr>\n      <th>4</th>\n      <td>208</td>\n      <td>5583.110707</td>\n      <td>183</td>\n      <td>5631.035959</td>\n      <td>47.925252</td>\n    </tr>\n    <tr>\n      <th>5</th>\n      <td>208</td>\n      <td>5410.318878</td>\n      <td>183</td>\n      <td>5899.029643</td>\n      <td>488.710765</td>\n    </tr>\n    <tr>\n      <th>6</th>\n      <td>208</td>\n      <td>5819.638891</td>\n      <td>183</td>\n      <td>5844.977154</td>\n      <td>25.338263</td>\n    </tr>\n    <tr>\n      <th>7</th>\n      <td>208</td>\n      <td>5640.061883</td>\n      <td>183</td>\n      <td>5980.920966</td>\n      <td>340.859083</td>\n    </tr>\n    <tr>\n      <th>8</th>\n      <td>208</td>\n      <td>5405.152963</td>\n      <td>183</td>\n      <td>5701.850332</td>\n      <td>296.697369</td>\n    </tr>\n    <tr>\n      <th>9</th>\n      <td>208</td>\n      <td>6067.190112</td>\n      <td>183</td>\n      <td>6154.986937</td>\n      <td>87.796825</td>\n    </tr>\n  </tbody>\n</table>\n</div>"
          },
          "metadata": {}
        }
      ],
      "execution_count": 41
    },
    {
      "cell_type": "markdown",
      "source": "### 11. Find the bus maximizing the difference computed in the previous point.",
      "metadata": {}
    },
    {
      "cell_type": "code",
      "source": "max_diff_row = energy_ratio_minmax.loc[energy_ratio_minmax['ratio_difference'].idxmax()]",
      "metadata": {
        "trusted": true
      },
      "outputs": [],
      "execution_count": 45
    },
    {
      "cell_type": "code",
      "source": "max_diff_bus = max_diff_row['max_busNumber']",
      "metadata": {
        "trusted": true
      },
      "outputs": [],
      "execution_count": 46
    },
    {
      "cell_type": "code",
      "source": "max_diff_bus",
      "metadata": {
        "trusted": true
      },
      "outputs": [
        {
          "execution_count": 47,
          "output_type": "execute_result",
          "data": {
            "text/plain": "183.0"
          },
          "metadata": {}
        }
      ],
      "execution_count": 47
    },
    {
      "cell_type": "markdown",
      "source": "### 14. For each month of the year, compute the average ambient temperature",
      "metadata": {}
    },
    {
      "cell_type": "code",
      "source": "df_in['startTime_iso'] = pd.to_datetime(df_in['startTime_iso'])",
      "metadata": {
        "trusted": true
      },
      "outputs": [],
      "execution_count": 49
    },
    {
      "cell_type": "code",
      "source": "df_in['month'] = df_in['startTime_iso'].dt.month\naverage_temp_month = df_in.groupby('month')['temperature_ambient_mean'].mean().reset_index()",
      "metadata": {
        "trusted": true
      },
      "outputs": [],
      "execution_count": 50
    },
    {
      "cell_type": "code",
      "source": "average_temp_month",
      "metadata": {
        "trusted": true
      },
      "outputs": [
        {
          "execution_count": 51,
          "output_type": "execute_result",
          "data": {
            "text/plain": "    month  temperature_ambient_mean\n0       1                278.958474\n1       2                280.529928\n2       3                283.319157\n3       4                286.608216\n4       5                290.051582\n5       6                296.143297\n6       7                297.376967\n7       8                295.847943\n8       9                292.362038\n9      10                287.714072\n10     11                281.884420\n11     12                279.381561",
            "text/html": "<div>\n<style scoped>\n    .dataframe tbody tr th:only-of-type {\n        vertical-align: middle;\n    }\n\n    .dataframe tbody tr th {\n        vertical-align: top;\n    }\n\n    .dataframe thead th {\n        text-align: right;\n    }\n</style>\n<table border=\"1\" class=\"dataframe\">\n  <thead>\n    <tr style=\"text-align: right;\">\n      <th></th>\n      <th>month</th>\n      <th>temperature_ambient_mean</th>\n    </tr>\n  </thead>\n  <tbody>\n    <tr>\n      <th>0</th>\n      <td>1</td>\n      <td>278.958474</td>\n    </tr>\n    <tr>\n      <th>1</th>\n      <td>2</td>\n      <td>280.529928</td>\n    </tr>\n    <tr>\n      <th>2</th>\n      <td>3</td>\n      <td>283.319157</td>\n    </tr>\n    <tr>\n      <th>3</th>\n      <td>4</td>\n      <td>286.608216</td>\n    </tr>\n    <tr>\n      <th>4</th>\n      <td>5</td>\n      <td>290.051582</td>\n    </tr>\n    <tr>\n      <th>5</th>\n      <td>6</td>\n      <td>296.143297</td>\n    </tr>\n    <tr>\n      <th>6</th>\n      <td>7</td>\n      <td>297.376967</td>\n    </tr>\n    <tr>\n      <th>7</th>\n      <td>8</td>\n      <td>295.847943</td>\n    </tr>\n    <tr>\n      <th>8</th>\n      <td>9</td>\n      <td>292.362038</td>\n    </tr>\n    <tr>\n      <th>9</th>\n      <td>10</td>\n      <td>287.714072</td>\n    </tr>\n    <tr>\n      <th>10</th>\n      <td>11</td>\n      <td>281.884420</td>\n    </tr>\n    <tr>\n      <th>11</th>\n      <td>12</td>\n      <td>279.381561</td>\n    </tr>\n  </tbody>\n</table>\n</div>"
          },
          "metadata": {}
        }
      ],
      "execution_count": 51
    },
    {
      "cell_type": "code",
      "source": "",
      "metadata": {
        "trusted": true
      },
      "outputs": [],
      "execution_count": null
    }
  ]
}